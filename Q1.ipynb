{
 "cells": [
  {
   "cell_type": "code",
   "execution_count": 8,
   "metadata": {},
   "outputs": [],
   "source": [
    "import numpy as np\n",
    "\n",
    "def lu_decomposition(input_matrix):\n",
    "    number = input_matrix.shape[0]\n",
    "    L = np.zeros((number, number))\n",
    "    U = np.zeros((number, number))\n",
    "    \n",
    "    for i in range(number):\n",
    "        L[i, i] = 1 \n",
    "        for j in range(i, number):\n",
    "            sum_u = sum(L[i, k] * U[k, j] for k in range(i))\n",
    "            U[i, j] = input_matrix[i, j] - sum_u\n",
    "        if U[i, i] == 0:\n",
    "            return null,null\n",
    "        for j in range(i+1, number):\n",
    "            sum_l = sum(L[j, k] * U[k, i] for k in range(i))\n",
    "            L[j, i] = (input_matrix[j, i] - sum_l) / U[i, i]\n",
    "        #print(i)\n",
    "        #print(U)\n",
    "        #print(L)\n",
    "    return L, U\n",
    "\n",
    "    \n"
   ]
  },
  {
   "cell_type": "markdown",
   "metadata": {},
   "source": [
    "در بخش اول یک تابع نوشتم برای اینکه یک ماتریس ورودی بگیره و اون رو با روش بالا مثلثی کردن و پیدا کردن ماتریس پایین مثلثی از روی ضرایب تبدیل ماتریس ورودی به ماتریس بالا مثلثی دو ماتریس فوق را می‌سازیم. نحوه ساخت به این شکل هستش که ابتدا دو ماتریس ان در ان کاملا صفر برای ماتریس های موردنظر می‌سازیم. روش تجزیه ماتریس به این شکل هستش که روی ماتریس ورودی حرکت میکنیم و مقادیر هر سطر را از روی ماتریس ورودی و با حرکت از عنصر قطری تا انتها سطر با توجه به ضرایبی که نیاز بوده تا از عنصر قطری به قبل را صفر کنیم مقادیر آن ها را میابیم درست مثل سوالی که در تمرین های قبلی برای پیدا کردن رنک ماتریس انجام دادیم و سپس با ذخیره کردن این ضرایب میتوانیم برای ساخت ماتریس بالامثلثی و پایین مثلثی استفاده کنیم."
   ]
  },
  {
   "cell_type": "code",
   "execution_count": 9,
   "metadata": {},
   "outputs": [],
   "source": [
    "def solve_with_lu_decomposition(input_matrix, b):\n",
    "        L, U = lu_decomposition(input_matrix)\n",
    "        if L is None or U is None :\n",
    "            print(\"the matrix can not to decompse \")\n",
    "            return None\n",
    "        if np.any(np.isclose(np.diag(U), 0)):\n",
    "            print(\"the matrix is singular \")\n",
    "            return None\n",
    "        y = np.linalg.solve(L, b)\n",
    "        x = np.linalg.solve(U, y)\n",
    "        return x"
   ]
  },
  {
   "cell_type": "markdown",
   "metadata": {},
   "source": [
    "در این قسمت از برنامه تابعی نوشتم تا از طریق تجزیه ماتریس که در بخش بالا نوشته بودم بیاد ماتریس ورودی که ضرایب معادله ما هستش رو تجزیه کنه و پارامتر دوم که ثابت های معادله ما هستند رو بهمون میده. اول میایم تجزیه ماتریس ضرایب رو حساب میکنیم بعد چک میکنیم که اگه نال برگردونده باشه تابع تجزبه، میفهمیم که تجزیه LU قابل انجام نبوده\n",
    "اما اگه تجزیه وجود داشت ابتدا با استفاده از ماتریس پایین مثلثی یک سری جواب بدست میاریم بعد از روی جواب های بدست اومده میایم جواب های اصلی خودمون رو بدست میاریم.\n"
   ]
  },
  {
   "cell_type": "code",
   "execution_count": 11,
   "metadata": {},
   "outputs": [
    {
     "name": "stdout",
     "output_type": "stream",
     "text": [
      " solution is:\n",
      "[ 0.12053571  0.40625    -0.12946429]\n"
     ]
    }
   ],
   "source": [
    "\n",
    "n = int(input(\"Enter the number of variables : \"))\n",
    "input_matrix = np.zeros((n, n))\n",
    "b = np.zeros(n)\n",
    "    \n",
    "for i in range(n):\n",
    "    coeffs = list(map(float, input(f\"enter the coefficients of equation {i+1}: \").split()))\n",
    "    const = float(input(f\"Enter constant of equation {i+1}: \"))\n",
    "    input_matrix[i, :] = coeffs\n",
    "    b[i] = const\n",
    "    \n",
    "solution = solve_with_lu_decomposition(input_matrix, b)\n",
    "if solution is not None:\n",
    "    print(\" solution is:\")\n",
    "    print(solution)"
   ]
  },
  {
   "cell_type": "markdown",
   "metadata": {},
   "source": [
    "در این قسمت از برنامه صرفا ورودی های مورد نظرمون رو از کاربر میگیریم و میایم تابع های نوشته شده رو روی ورودی هامون صدا میزنیم و در نهایت خروجی رو نشون میدیم."
   ]
  }
 ],
 "metadata": {
  "kernelspec": {
   "display_name": "Python 3",
   "language": "python",
   "name": "python3"
  },
  "language_info": {
   "codemirror_mode": {
    "name": "ipython",
    "version": 3
   },
   "file_extension": ".py",
   "mimetype": "text/x-python",
   "name": "python",
   "nbconvert_exporter": "python",
   "pygments_lexer": "ipython3",
   "version": "3.10.7"
  }
 },
 "nbformat": 4,
 "nbformat_minor": 2
}
